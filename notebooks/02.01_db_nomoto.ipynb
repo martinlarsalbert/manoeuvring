{
 "cells": [
  {
   "cell_type": "markdown",
   "metadata": {},
   "source": [
    "# Nomoto model first order PIT"
   ]
  },
  {
   "cell_type": "code",
   "execution_count": null,
   "metadata": {},
   "outputs": [],
   "source": [
    "# %load imports.py\n",
    "\"\"\"\n",
    "These is the standard setup for the notebooks.\n",
    "\"\"\"\n",
    "\n",
    "%matplotlib inline\n",
    "%load_ext autoreload\n",
    "%autoreload 2\n",
    "\n",
    "from jupyterthemes import jtplot\n",
    "jtplot.style(theme='onedork', context='notebook', ticks=True, grid=False)\n",
    "\n",
    "import pandas as pd\n",
    "pd.options.display.max_rows = 999\n",
    "pd.options.display.max_columns = 999\n",
    "pd.set_option(\"display.max_columns\", None)\n",
    "import numpy as np\n",
    "import os\n",
    "import matplotlib.pyplot as plt\n",
    "#plt.style.use('paper')\n",
    "\n",
    "import copy\n",
    "\n",
    "import numpy as np\n",
    "import os\n",
    "\n",
    "from src.data import database\n",
    "from mdldb import mdl_to_evaluation\n",
    "from mdldb.tables import Run\n",
    "import src.data\n",
    "import os.path\n",
    "\n",
    "from sklearn.pipeline import Pipeline\n",
    "\n",
    "import sympy as sp\n",
    "from sklearn.metrics import r2_score\n",
    "import src.reporting.paper_writing as paper_writing\n",
    "\n",
    "from src.equations import equations\n",
    "from src.equations import symbols"
   ]
  },
  {
   "cell_type": "code",
   "execution_count": null,
   "metadata": {},
   "outputs": [],
   "source": [
    "from sympy.physics.vector.printing import vpprint, vlatex\n",
    "from IPython.display import display, Math, Latex\n",
    "from pandas_profiling import ProfileReport\n",
    "import evaluation.evaluation_helpers as evaluation_helpers"
   ]
  },
  {
   "cell_type": "markdown",
   "metadata": {},
   "source": [
    "## Nomotos equation:"
   ]
  },
  {
   "cell_type": "code",
   "execution_count": null,
   "metadata": {},
   "outputs": [],
   "source": [
    "Math(vlatex(equations.nomoto_first_order))"
   ]
  },
  {
   "cell_type": "code",
   "execution_count": null,
   "metadata": {},
   "outputs": [],
   "source": [
    "db = database.get_db()"
   ]
  },
  {
   "cell_type": "code",
   "execution_count": null,
   "metadata": {},
   "outputs": [],
   "source": [
    "sql=\"\"\"\n",
    "SELECT * from run\n",
    "INNER JOIN projects\n",
    "ON run.project_number==projects.project_number\n",
    "    INNER JOIN loading_conditions\n",
    "    ON (run.loading_condition_id == loading_conditions.id)\n",
    "        INNER JOIN models\n",
    "        ON run.model_number == models.model_number\n",
    "            INNER JOIN ships\n",
    "            ON models.ship_name == ships.name\n",
    "\n",
    "WHERE run.test_type==\"spiral\"     \n",
    "\"\"\"\n",
    "data = pd.read_sql_query(sql=sql, con=db.engine)\n",
    "data = data.loc[:,~data.columns.duplicated()]"
   ]
  },
  {
   "cell_type": "code",
   "execution_count": null,
   "metadata": {},
   "outputs": [],
   "source": [
    "data.describe()"
   ]
  },
  {
   "cell_type": "code",
   "execution_count": null,
   "metadata": {},
   "outputs": [],
   "source": [
    "#profile = ProfileReport(statistics, title='Pandas Profiling Report')\n",
    "#profile.to_widgets()"
   ]
  },
  {
   "cell_type": "code",
   "execution_count": null,
   "metadata": {},
   "outputs": [],
   "source": [
    "loading_conditions = data.groupby(by=['loading_condition_id','ship_speed'])"
   ]
  },
  {
   "cell_type": "code",
   "execution_count": null,
   "metadata": {},
   "outputs": [],
   "source": [
    "loading_conditions.describe()"
   ]
  },
  {
   "cell_type": "code",
   "execution_count": null,
   "metadata": {},
   "outputs": [],
   "source": [
    "#loading_condition = loading_conditions.get_group(name=(3,19))\n",
    "loading_condition = loading_conditions.get_group(name=(144,16))"
   ]
  },
  {
   "cell_type": "code",
   "execution_count": null,
   "metadata": {},
   "outputs": [],
   "source": [
    "loading_condition.describe()"
   ]
  },
  {
   "cell_type": "markdown",
   "metadata": {},
   "source": [
    "### Load all data for one loading condition"
   ]
  },
  {
   "cell_type": "code",
   "execution_count": null,
   "metadata": {},
   "outputs": [],
   "source": [
    "df_all = pd.DataFrame()\n",
    "interesting_columns = ['delta','x0','y0','z0','phi','theta','psi']\n",
    "for index, run in loading_condition.iterrows():\n",
    "    db_run = db.session.query(Run).get(int(run.id))\n",
    "    df = database.load_run(db_run=db_run)\n",
    "    df['t'] = df.index \n",
    "    \n",
    "    df_=evaluation_helpers.coord(df=df)  # add psi and position etc.\n",
    "    \n",
    "    df = pd.concat((df,df_), axis=1)\n",
    "\n",
    "    df['run_id'] = run.id\n",
    "    \n",
    "    df_all = df_all.append(df[['t','run_id'] + interesting_columns], ignore_index=True)"
   ]
  },
  {
   "cell_type": "code",
   "execution_count": null,
   "metadata": {},
   "outputs": [],
   "source": [
    "df_all.describe()"
   ]
  },
  {
   "cell_type": "code",
   "execution_count": null,
   "metadata": {},
   "outputs": [],
   "source": [
    "fig,ax=plt.subplots()\n",
    "runs = df_all.groupby(by='run_id')\n",
    "for run_id, df in runs:\n",
    "    df['x0']-=df.iloc[0]['x0']\n",
    "    df['y0']-=df.iloc[0]['y0']\n",
    "    \n",
    "    df.plot(x='y0',y='x0', ax=ax)\n",
    "    \n",
    "ax.get_legend().remove()\n",
    "ax.set_aspect('equal', 'box')"
   ]
  },
  {
   "cell_type": "code",
   "execution_count": null,
   "metadata": {},
   "outputs": [],
   "source": [
    "def derivate(group):\n",
    "    df = group.set_index('t')\n",
    "    \n",
    "    ddf = np.gradient(df, df.index, axis=0).mean(axis=0)\n",
    "    s = pd.Series(ddf, index=df.columns)\n",
    "    \n",
    "    return s"
   ]
  },
  {
   "cell_type": "code",
   "execution_count": null,
   "metadata": {},
   "outputs": [],
   "source": [
    "df = runs.mean()\n",
    "\n",
    "ddf = runs.apply(func= derivate)\n",
    "\n",
    "df['u']=ddf['x0']\n",
    "df['v']=ddf['y0']\n",
    "df['w']=ddf['z0']\n",
    "df['p']=ddf['phi']\n",
    "df['q']=ddf['theta']\n",
    "df['r']=ddf['psi']\n"
   ]
  },
  {
   "cell_type": "code",
   "execution_count": null,
   "metadata": {},
   "outputs": [],
   "source": [
    "fig,ax=plt.subplots()\n",
    "df.plot(x='delta', y='r', ax=ax, style='o')\n",
    "ax.grid(True)\n",
    "ax.set_title('Reverse spiral plot')"
   ]
  },
  {
   "cell_type": "code",
   "execution_count": null,
   "metadata": {},
   "outputs": [],
   "source": [
    "print(loading_condition.iloc[0]['project_path'])"
   ]
  },
  {
   "cell_type": "code",
   "execution_count": null,
   "metadata": {},
   "outputs": [],
   "source": []
  }
 ],
 "metadata": {
  "kernelspec": {
   "display_name": "Python 3",
   "language": "python",
   "name": "python3"
  },
  "language_info": {
   "codemirror_mode": {
    "name": "ipython",
    "version": 3
   },
   "file_extension": ".py",
   "mimetype": "text/x-python",
   "name": "python",
   "nbconvert_exporter": "python",
   "pygments_lexer": "ipython3",
   "version": "3.6.8"
  }
 },
 "nbformat": 4,
 "nbformat_minor": 4
}
