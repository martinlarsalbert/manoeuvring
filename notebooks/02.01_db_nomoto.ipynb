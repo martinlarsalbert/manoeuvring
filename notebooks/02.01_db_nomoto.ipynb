{
 "cells": [
  {
   "cell_type": "markdown",
   "metadata": {},
   "source": [
    "# Nomoto model first order PIT"
   ]
  },
  {
   "cell_type": "code",
   "execution_count": null,
   "metadata": {},
   "outputs": [],
   "source": [
    "# %load imports.py\n",
    "\"\"\"\n",
    "These is the standard setup for the notebooks.\n",
    "\"\"\"\n",
    "\n",
    "%matplotlib inline\n",
    "%load_ext autoreload\n",
    "%autoreload 2\n",
    "\n",
    "from jupyterthemes import jtplot\n",
    "jtplot.style(theme='onedork', context='notebook', ticks=True, grid=False)\n",
    "\n",
    "import pandas as pd\n",
    "pd.options.display.max_rows = 999\n",
    "pd.options.display.max_columns = 999\n",
    "pd.set_option(\"display.max_columns\", None)\n",
    "import numpy as np\n",
    "import os\n",
    "import matplotlib.pyplot as plt\n",
    "#plt.style.use('paper')\n",
    "\n",
    "import copy\n",
    "\n",
    "import numpy as np\n",
    "import os\n",
    "\n",
    "from src.data import database\n",
    "from mdldb import mdl_to_evaluation\n",
    "from mdldb.tables import Run\n",
    "import src.data\n",
    "import os.path\n",
    "\n",
    "from sklearn.pipeline import Pipeline\n",
    "\n",
    "import sympy as sp\n",
    "from sklearn.metrics import r2_score\n",
    "import src.reporting.paper_writing as paper_writing\n",
    "\n",
    "from src.equations import equations\n",
    "from src.equations import symbols\n",
    "from rolldecayestimators.substitute_dynamic_symbols import lambdify"
   ]
  },
  {
   "cell_type": "code",
   "execution_count": null,
   "metadata": {},
   "outputs": [],
   "source": [
    "from sympy.physics.vector.printing import vpprint, vlatex\n",
    "from IPython.display import display, Math, Latex\n",
    "from pandas_profiling import ProfileReport\n",
    "import evaluation.evaluation_helpers as evaluation_helpers\n",
    "from scipy.optimize import least_squares"
   ]
  },
  {
   "cell_type": "markdown",
   "metadata": {},
   "source": [
    "## Nomotos equation:"
   ]
  },
  {
   "cell_type": "code",
   "execution_count": null,
   "metadata": {},
   "outputs": [],
   "source": [
    "Math(vlatex(equations.nomoto_first_order))"
   ]
  },
  {
   "cell_type": "code",
   "execution_count": null,
   "metadata": {},
   "outputs": [],
   "source": [
    "db = database.get_db()"
   ]
  },
  {
   "cell_type": "code",
   "execution_count": null,
   "metadata": {},
   "outputs": [],
   "source": [
    "sql=\"\"\"\n",
    "SELECT * from run\n",
    "INNER JOIN projects\n",
    "ON run.project_number==projects.project_number\n",
    "    INNER JOIN loading_conditions\n",
    "    ON (run.loading_condition_id == loading_conditions.id)\n",
    "        INNER JOIN models\n",
    "        ON run.model_number == models.model_number\n",
    "            INNER JOIN ships\n",
    "            ON models.ship_name == ships.name\n",
    "\n",
    "WHERE run.test_type==\"spiral\"     \n",
    "\"\"\"\n",
    "data = pd.read_sql_query(sql=sql, con=db.engine)\n",
    "data = data.loc[:,~data.columns.duplicated()]"
   ]
  },
  {
   "cell_type": "code",
   "execution_count": null,
   "metadata": {},
   "outputs": [],
   "source": [
    "data.describe()"
   ]
  },
  {
   "cell_type": "code",
   "execution_count": null,
   "metadata": {},
   "outputs": [],
   "source": [
    "#profile = ProfileReport(statistics, title='Pandas Profiling Report')\n",
    "#profile.to_widgets()"
   ]
  },
  {
   "cell_type": "code",
   "execution_count": null,
   "metadata": {},
   "outputs": [],
   "source": [
    "loading_conditions = data.groupby(by=['loading_condition_id','ship_speed'])"
   ]
  },
  {
   "cell_type": "code",
   "execution_count": null,
   "metadata": {},
   "outputs": [],
   "source": [
    "loading_conditions.describe()"
   ]
  },
  {
   "cell_type": "code",
   "execution_count": null,
   "metadata": {},
   "outputs": [],
   "source": [
    "loading_condition = loading_conditions.get_group(name=(3,19))\n",
    "#loading_condition = loading_conditions.get_group(name=(144,16))"
   ]
  },
  {
   "cell_type": "code",
   "execution_count": null,
   "metadata": {},
   "outputs": [],
   "source": [
    "loading_condition.describe()"
   ]
  },
  {
   "cell_type": "markdown",
   "metadata": {},
   "source": [
    "### Load all data for one loading condition"
   ]
  },
  {
   "cell_type": "code",
   "execution_count": null,
   "metadata": {},
   "outputs": [],
   "source": [
    "df_all = pd.DataFrame()\n",
    "interesting_columns = ['delta','x0','y0','z0','phi','theta','psi']\n",
    "for index, run in loading_condition.iterrows():\n",
    "    db_run = db.session.query(Run).get(int(run.id))\n",
    "    df = database.load_run(db_run=db_run)\n",
    "    df['t'] = df.index \n",
    "    \n",
    "    df_=evaluation_helpers.coord(df=df)  # add psi and position etc.\n",
    "    \n",
    "    df = pd.concat((df,df_), axis=1)\n",
    "\n",
    "    df['run_id'] = run.id\n",
    "    \n",
    "    df_all = df_all.append(df[['t','run_id'] + interesting_columns], ignore_index=True)"
   ]
  },
  {
   "cell_type": "code",
   "execution_count": null,
   "metadata": {},
   "outputs": [],
   "source": [
    "df_all.describe()"
   ]
  },
  {
   "cell_type": "code",
   "execution_count": null,
   "metadata": {},
   "outputs": [],
   "source": [
    "fig,ax=plt.subplots()\n",
    "runs = df_all.groupby(by='run_id')\n",
    "for run_id, df in runs:\n",
    "    df['x0']-=df.iloc[0]['x0']\n",
    "    df['y0']-=df.iloc[0]['y0']\n",
    "    \n",
    "    df.plot(x='y0',y='x0', ax=ax)\n",
    "    \n",
    "ax.get_legend().remove()\n",
    "ax.set_aspect('equal', 'box')"
   ]
  },
  {
   "cell_type": "code",
   "execution_count": null,
   "metadata": {},
   "outputs": [],
   "source": [
    "def derivate(group):\n",
    "    df = group.set_index('t')\n",
    "    \n",
    "    ddf = np.gradient(df, df.index, axis=0).mean(axis=0)\n",
    "    s = pd.Series(ddf, index=df.columns)\n",
    "    \n",
    "    return s"
   ]
  },
  {
   "cell_type": "code",
   "execution_count": null,
   "metadata": {},
   "outputs": [],
   "source": [
    "df = runs.mean()\n",
    "\n",
    "ddf = runs.apply(func= derivate)\n",
    "\n",
    "df['u']=ddf['x0']\n",
    "df['v']=ddf['y0']\n",
    "df['w']=ddf['z0']\n",
    "df['p']=ddf['phi']\n",
    "df['q']=ddf['theta']\n",
    "df['r']=ddf['psi']\n",
    "df.sort_values(by='r', inplace=True)"
   ]
  },
  {
   "cell_type": "code",
   "execution_count": null,
   "metadata": {},
   "outputs": [],
   "source": [
    "fig,ax=plt.subplots()\n",
    "df.plot(x='delta', y='r', ax=ax, style='o')\n",
    "ax.grid(True)\n",
    "ax.set_title('Reverse spiral plot')"
   ]
  },
  {
   "cell_type": "code",
   "execution_count": null,
   "metadata": {},
   "outputs": [],
   "source": [
    "print(loading_condition.iloc[0]['project_path'])"
   ]
  },
  {
   "cell_type": "code",
   "execution_count": null,
   "metadata": {},
   "outputs": [],
   "source": [
    "spiral_eq = sp.simplify(equations.nomoto_first_order.subs(symbols.r_1d,0))\n",
    "Math(vlatex(spiral_eq))"
   ]
  },
  {
   "cell_type": "code",
   "execution_count": null,
   "metadata": {},
   "outputs": [],
   "source": [
    "r_lambda=lambdify(sp.solve(spiral_eq,symbols.r)[0])"
   ]
  },
  {
   "cell_type": "code",
   "execution_count": null,
   "metadata": {},
   "outputs": [],
   "source": [
    "def residual(parameters, X, ys):\n",
    "    r = r_lambda(*parameters,delta=X['delta'])\n",
    "    \n",
    "    error = r - ys\n",
    "    return error\n",
    "\n",
    "initial_guess = [-1,]\n",
    "\n",
    "kwargs={\n",
    "    'X':df,\n",
    "    'ys':df['r'],\n",
    "}\n",
    "\n",
    "result = least_squares(fun=residual, x0=initial_guess, kwargs=kwargs, method='lm')\n",
    "parameters={\n",
    "    'K':result.x,\n",
    "}"
   ]
  },
  {
   "cell_type": "code",
   "execution_count": null,
   "metadata": {},
   "outputs": [],
   "source": [
    "r_predict = r_lambda(**parameters,delta=df['delta'])\n",
    "\n",
    "fig,ax=plt.subplots()\n",
    "df.plot(x='delta', y='r', ax=ax, style='o')\n",
    "ax.plot(df['delta'],r_predict, 'b-')\n",
    "ax.grid(True)\n",
    "ax.set_title('Reverse spiral plot');"
   ]
  },
  {
   "cell_type": "code",
   "execution_count": null,
   "metadata": {},
   "outputs": [],
   "source": [
    "K_3 = sp.symbols('K_3')\n",
    "delta_0 = sp.symbols('delta_0')\n",
    "\n",
    "\n",
    "spiral_eq_3 = sp.Eq(symbols.delta,\n",
    "      sp.solve(spiral_eq,symbols.delta)[0] + symbols.r**5/K_3 + delta_0) \n",
    "\n",
    "Math(vlatex(spiral_eq_3))"
   ]
  },
  {
   "cell_type": "code",
   "execution_count": null,
   "metadata": {},
   "outputs": [],
   "source": [
    "A, A_3 = sp.symbols('A A_3')\n",
    "spiral_eq_3_A = spiral_eq_3.subs([(symbols.K,1/A),\n",
    "                  (K_3,1/A_3),\n",
    "                 ])"
   ]
  },
  {
   "cell_type": "code",
   "execution_count": null,
   "metadata": {},
   "outputs": [],
   "source": [
    "delta_lambda_3=lambdify(sp.solve(spiral_eq_3_A,symbols.delta)[0])"
   ]
  },
  {
   "cell_type": "code",
   "execution_count": null,
   "metadata": {},
   "outputs": [],
   "source": [
    "delta_lambda_3"
   ]
  },
  {
   "cell_type": "code",
   "execution_count": null,
   "metadata": {},
   "outputs": [],
   "source": [
    "np.random.seed()\n",
    "\n",
    "def residual_3(parameters, X, ys):\n",
    "    delta = delta_lambda_3(*parameters,r=X['r'])\n",
    "    error = (delta - ys)**2\n",
    "    return error\n",
    "\n",
    "initial_guess = [-0.1,-1000,0]\n",
    "\n",
    "kwargs={\n",
    "    'X':df,\n",
    "    'ys':df['delta'],\n",
    "}\n",
    "\n",
    "bounds = ([-np.inf,-np.inf],\n",
    "          [0,0,np.inf])   \n",
    "\n",
    "result = least_squares(fun=residual_3, x0=initial_guess, kwargs=kwargs, max_nfev=1000, \n",
    "                       loss='linear', f_scale=0.1, method='lm')\n",
    "parameters_3={\n",
    "    'A':result.x[0],\n",
    "    'A_3':result.x[1],\n",
    "    'delta_0':result.x[2],\n",
    "}"
   ]
  },
  {
   "cell_type": "code",
   "execution_count": null,
   "metadata": {},
   "outputs": [],
   "source": [
    "result"
   ]
  },
  {
   "cell_type": "code",
   "execution_count": null,
   "metadata": {},
   "outputs": [],
   "source": [
    "parameters_3"
   ]
  },
  {
   "cell_type": "code",
   "execution_count": null,
   "metadata": {},
   "outputs": [],
   "source": [
    "N=100\n",
    "r=np.linspace(df['r'].min(),df['r'].max(),N)\n",
    "delta_predict = delta_lambda_3(**parameters_3,r=r)\n",
    "\n",
    "fig,ax=plt.subplots()\n",
    "df.plot(x='delta', y='r', ax=ax, style='o')\n",
    "ax.plot(delta_predict,r, 'b-')\n",
    "ax.grid(True)\n",
    "ax.set_title('Reverse spiral plot');"
   ]
  },
  {
   "cell_type": "code",
   "execution_count": null,
   "metadata": {},
   "outputs": [],
   "source": [
    "from scipy import polyval, polyfit\n",
    "df['r**5'] = df['r']**5\n",
    "X = df[['r','r**5']].copy()\n",
    "X['1']=1.0\n",
    "x, residuals, rank, s = np.linalg.lstsq(X, df['delta'], rcond=None)\n",
    "parameters_4 = {\n",
    "    'A':x[0],\n",
    "    'A_3':x[1],\n",
    "    'delta_0':x[2],\n",
    "}\n",
    "\n",
    "delta_predict = delta_lambda_3(**parameters_4,r=r)\n",
    "\n",
    "fig,ax=plt.subplots()\n",
    "df.plot(x='delta', y='r', ax=ax, style='o')\n",
    "ax.plot(delta_predict,r, 'b-')\n",
    "ax.grid(True)\n",
    "ax.set_title('Reverse spiral plot');"
   ]
  },
  {
   "cell_type": "code",
   "execution_count": null,
   "metadata": {},
   "outputs": [],
   "source": []
  }
 ],
 "metadata": {
  "kernelspec": {
   "display_name": "Python 3",
   "language": "python",
   "name": "python3"
  },
  "language_info": {
   "codemirror_mode": {
    "name": "ipython",
    "version": 3
   },
   "file_extension": ".py",
   "mimetype": "text/x-python",
   "name": "python",
   "nbconvert_exporter": "python",
   "pygments_lexer": "ipython3",
   "version": "3.6.8"
  }
 },
 "nbformat": 4,
 "nbformat_minor": 4
}
