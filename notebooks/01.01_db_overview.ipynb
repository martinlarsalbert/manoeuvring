{
 "cells": [
  {
   "cell_type": "markdown",
   "metadata": {},
   "source": [
    "# Overview of MDL model test database for manoeuvring "
   ]
  },
  {
   "cell_type": "code",
   "execution_count": 1,
   "metadata": {},
   "outputs": [
    {
     "name": "stderr",
     "output_type": "stream",
     "text": [
      "Duplicate key in file WindowsPath('C:/Users/maa/.matplotlib/stylelib/paper.mplstyle'), line 461 ('figure.figsize   : 5, 3   ## figure size in inches')\n",
      "Duplicate key in file WindowsPath('C:/Users/maa/.matplotlib/stylelib/paper.mplstyle'), line 462 ('figure.dpi       : 100        ## figure dots per inch')\n"
     ]
    }
   ],
   "source": [
    "%matplotlib inline\n",
    "%load_ext autoreload\n",
    "%autoreload 2"
   ]
  },
  {
   "cell_type": "code",
   "execution_count": 27,
   "metadata": {},
   "outputs": [],
   "source": [
    "import pandas as pd\n",
    "pd.options.display.max_rows = 999\n",
    "pd.options.display.max_columns = 999\n",
    "pd.set_option(\"display.max_columns\", None)\n",
    "import numpy as np\n",
    "import os\n",
    "import matplotlib.pyplot as plt\n",
    "from pylab import rcParams\n",
    "rcParams['figure.figsize'] = 15, 5\n",
    "\n",
    "from src.data import database\n",
    "from mdldb import mdl_to_evaluation\n",
    "from mdldb.tables import Run\n",
    "import src.data\n",
    "import os.path"
   ]
  },
  {
   "cell_type": "code",
   "execution_count": 18,
   "metadata": {},
   "outputs": [],
   "source": [
    "db = database.get_db()"
   ]
  },
  {
   "cell_type": "markdown",
   "metadata": {},
   "source": [
    "## Overview"
   ]
  },
  {
   "cell_type": "code",
   "execution_count": 19,
   "metadata": {},
   "outputs": [
    {
     "data": {
      "text/plain": [
       "[('smeg'),\n",
       " ('seakeeping'),\n",
       " ('teckenkoll'),\n",
       " ('prepare'),\n",
       " ('GM'),\n",
       " ('reference speed'),\n",
       " ('roll decay'),\n",
       " ('rodergrundvinkel'),\n",
       " ('zigzag'),\n",
       " ('turning circle'),\n",
       " ('rerun'),\n",
       " ('u turn'),\n",
       " ('spiral'),\n",
       " ('unknown'),\n",
       " ('bollard pull'),\n",
       " ('captive'),\n",
       " ('none standard'),\n",
       " ('crash stop'),\n",
       " ('wave calibration'),\n",
       " ('pitch decay'),\n",
       " ('surge decay'),\n",
       " ('sway decay'),\n",
       " ('softmooring'),\n",
       " ('williamson turn'),\n",
       " ('heave decay'),\n",
       " ('yaw decay')]"
      ]
     },
     "execution_count": 19,
     "metadata": {},
     "output_type": "execute_result"
    }
   ],
   "source": [
    "test_types = [test_type for test_type in db.session.query(Run.test_type).distinct()]\n",
    "test_types"
   ]
  },
  {
   "cell_type": "code",
   "execution_count": 20,
   "metadata": {},
   "outputs": [],
   "source": [
    "sql=\"\"\"\n",
    "SELECT * from\n",
    "run\n",
    "WHERE run.test_type==\"zigzag\" OR \n",
    "      run.test_type==\"turning circle\" OR\n",
    "      run.test_type==\"williamson turn\" OR\n",
    "      run.test_type==\"captive\" OR\n",
    "      run.test_type==\"spiral\"     \n",
    "\"\"\"\n",
    "statistics = pd.read_sql_query(sql=sql, con=db.engine)"
   ]
  },
  {
   "cell_type": "code",
   "execution_count": 21,
   "metadata": {},
   "outputs": [
    {
     "data": {
      "text/html": [
       "<div>\n",
       "<style scoped>\n",
       "    .dataframe tbody tr th:only-of-type {\n",
       "        vertical-align: middle;\n",
       "    }\n",
       "\n",
       "    .dataframe tbody tr th {\n",
       "        vertical-align: top;\n",
       "    }\n",
       "\n",
       "    .dataframe thead th {\n",
       "        text-align: right;\n",
       "    }\n",
       "</style>\n",
       "<table border=\"1\" class=\"dataframe\">\n",
       "  <thead>\n",
       "    <tr style=\"text-align: right;\">\n",
       "      <th></th>\n",
       "      <th>id</th>\n",
       "      <th>project_number</th>\n",
       "      <th>series_number</th>\n",
       "      <th>run_number</th>\n",
       "      <th>test_number</th>\n",
       "      <th>loading_condition_id</th>\n",
       "      <th>ship_speed</th>\n",
       "      <th>angle1</th>\n",
       "      <th>angle2</th>\n",
       "    </tr>\n",
       "  </thead>\n",
       "  <tbody>\n",
       "    <tr>\n",
       "      <th>count</th>\n",
       "      <td>2285.000000</td>\n",
       "      <td>2.285000e+03</td>\n",
       "      <td>2285.000000</td>\n",
       "      <td>2285.00000</td>\n",
       "      <td>2285.0</td>\n",
       "      <td>2285.000000</td>\n",
       "      <td>2285.000000</td>\n",
       "      <td>709.000000</td>\n",
       "      <td>709.000000</td>\n",
       "    </tr>\n",
       "    <tr>\n",
       "      <th>mean</th>\n",
       "      <td>10002.125602</td>\n",
       "      <td>2.136135e+07</td>\n",
       "      <td>6.255142</td>\n",
       "      <td>24.87965</td>\n",
       "      <td>1.0</td>\n",
       "      <td>76.435449</td>\n",
       "      <td>15.524044</td>\n",
       "      <td>14.640339</td>\n",
       "      <td>14.589563</td>\n",
       "    </tr>\n",
       "    <tr>\n",
       "      <th>std</th>\n",
       "      <td>6561.309547</td>\n",
       "      <td>4.128206e+06</td>\n",
       "      <td>9.365002</td>\n",
       "      <td>17.51999</td>\n",
       "      <td>0.0</td>\n",
       "      <td>50.561435</td>\n",
       "      <td>3.620363</td>\n",
       "      <td>5.032842</td>\n",
       "      <td>5.082589</td>\n",
       "    </tr>\n",
       "    <tr>\n",
       "      <th>min</th>\n",
       "      <td>67.000000</td>\n",
       "      <td>2.005384e+07</td>\n",
       "      <td>0.000000</td>\n",
       "      <td>1.00000</td>\n",
       "      <td>1.0</td>\n",
       "      <td>1.000000</td>\n",
       "      <td>0.000000</td>\n",
       "      <td>5.000000</td>\n",
       "      <td>1.000000</td>\n",
       "    </tr>\n",
       "    <tr>\n",
       "      <th>25%</th>\n",
       "      <td>3705.000000</td>\n",
       "      <td>2.007471e+07</td>\n",
       "      <td>1.000000</td>\n",
       "      <td>12.00000</td>\n",
       "      <td>1.0</td>\n",
       "      <td>23.000000</td>\n",
       "      <td>14.000000</td>\n",
       "      <td>10.000000</td>\n",
       "      <td>10.000000</td>\n",
       "    </tr>\n",
       "    <tr>\n",
       "      <th>50%</th>\n",
       "      <td>8949.000000</td>\n",
       "      <td>2.012632e+07</td>\n",
       "      <td>2.000000</td>\n",
       "      <td>22.00000</td>\n",
       "      <td>1.0</td>\n",
       "      <td>81.000000</td>\n",
       "      <td>15.600000</td>\n",
       "      <td>10.000000</td>\n",
       "      <td>10.000000</td>\n",
       "    </tr>\n",
       "    <tr>\n",
       "      <th>75%</th>\n",
       "      <td>15550.000000</td>\n",
       "      <td>2.014727e+07</td>\n",
       "      <td>11.000000</td>\n",
       "      <td>34.00000</td>\n",
       "      <td>1.0</td>\n",
       "      <td>117.000000</td>\n",
       "      <td>18.200000</td>\n",
       "      <td>20.000000</td>\n",
       "      <td>20.000000</td>\n",
       "    </tr>\n",
       "    <tr>\n",
       "      <th>max</th>\n",
       "      <td>21213.000000</td>\n",
       "      <td>4.010545e+07</td>\n",
       "      <td>98.000000</td>\n",
       "      <td>148.00000</td>\n",
       "      <td>1.0</td>\n",
       "      <td>163.000000</td>\n",
       "      <td>25.000000</td>\n",
       "      <td>20.000000</td>\n",
       "      <td>20.000000</td>\n",
       "    </tr>\n",
       "  </tbody>\n",
       "</table>\n",
       "</div>"
      ],
      "text/plain": [
       "                 id  project_number  series_number  run_number  test_number  \\\n",
       "count   2285.000000    2.285000e+03    2285.000000  2285.00000       2285.0   \n",
       "mean   10002.125602    2.136135e+07       6.255142    24.87965          1.0   \n",
       "std     6561.309547    4.128206e+06       9.365002    17.51999          0.0   \n",
       "min       67.000000    2.005384e+07       0.000000     1.00000          1.0   \n",
       "25%     3705.000000    2.007471e+07       1.000000    12.00000          1.0   \n",
       "50%     8949.000000    2.012632e+07       2.000000    22.00000          1.0   \n",
       "75%    15550.000000    2.014727e+07      11.000000    34.00000          1.0   \n",
       "max    21213.000000    4.010545e+07      98.000000   148.00000          1.0   \n",
       "\n",
       "       loading_condition_id   ship_speed      angle1      angle2  \n",
       "count           2285.000000  2285.000000  709.000000  709.000000  \n",
       "mean              76.435449    15.524044   14.640339   14.589563  \n",
       "std               50.561435     3.620363    5.032842    5.082589  \n",
       "min                1.000000     0.000000    5.000000    1.000000  \n",
       "25%               23.000000    14.000000   10.000000   10.000000  \n",
       "50%               81.000000    15.600000   10.000000   10.000000  \n",
       "75%              117.000000    18.200000   20.000000   20.000000  \n",
       "max              163.000000    25.000000   20.000000   20.000000  "
      ]
     },
     "execution_count": 21,
     "metadata": {},
     "output_type": "execute_result"
    }
   ],
   "source": [
    "statistics.describe()"
   ]
  },
  {
   "cell_type": "markdown",
   "metadata": {},
   "source": [
    "## Load one test"
   ]
  },
  {
   "cell_type": "code",
   "execution_count": 22,
   "metadata": {},
   "outputs": [],
   "source": [
    "for db_run in db.session.query(Run).filter(Run.test_type=='zigzag'):\n",
    "    pass"
   ]
  },
  {
   "cell_type": "code",
   "execution_count": 23,
   "metadata": {},
   "outputs": [
    {
     "name": "stderr",
     "output_type": "stream",
     "text": [
      "c:\\dev\\manoeuvring\\venv\\lib\\site-packages\\signal_lab\\cut_file.py:271: UserWarning: Pandas doesn't allow columns to be created via a new attribute name - see https://pandas.pydata.org/pandas-docs/stable/indexing.html#attribute-access\n",
      "  df.units = units_\n",
      "c:\\dev\\manoeuvring\\venv\\lib\\site-packages\\signal_lab\\mdl_to_evaluation.py:103: UserWarning: Pandas doesn't allow columns to be created via a new attribute name - see https://pandas.pydata.org/pandas-docs/stable/indexing.html#attribute-access\n",
      "  df_.units = units\n",
      "c:\\dev\\manoeuvring\\venv\\lib\\site-packages\\signal_lab\\cut_file.py:496: UserWarning: Pandas doesn't allow columns to be created via a new attribute name - see https://pandas.pydata.org/pandas-docs/stable/indexing.html#attribute-access\n",
      "  df.units = units\n"
     ]
    }
   ],
   "source": [
    "run = mdl_to_evaluation.db_run_to_evaluation_run(run=db_run)"
   ]
  },
  {
   "cell_type": "code",
   "execution_count": 24,
   "metadata": {},
   "outputs": [
    {
     "data": {
      "image/png": "[encoded data removed]",
      "text/plain": [
       "<Figure size 1080x360 with 1 Axes>"
      ]
     },
     "metadata": {
      "needs_background": "light"
     },
     "output_type": "display_data"
    }
   ],
   "source": [
    "run.track_plot();"
   ]
  },
  {
   "cell_type": "code",
   "execution_count": 28,
   "metadata": {},
   "outputs": [],
   "source": [
    "interesting_columns = ['time','x0','y0','psi','r']\n",
    "df = run.df[interesting_columns].copy()\n",
    "df.set_index('time', inplace=True)\n",
    "file_path = os.path.join(src.data.path_raw,'example_zigzag.csv')\n",
    "df.to_csv(file_path, sep=';')"
   ]
  },
  {
   "cell_type": "code",
   "execution_count": 12,
   "metadata": {},
   "outputs": [
    {
     "data": {
      "text/plain": [
       "Index(['Carriage/Psip', 'Carriage/Xp_east', 'Carriage/Xp_west', 'Carriage/Yp',\n",
       "       'Carriage/dXp', 'MA/Alfa', 'MA/Beta', 'MA/Delta', 'MA/Gamma',\n",
       "       'MA/Pitch', 'MA/Roll', 'MA/Torkorr', 'delta', 'dpsi', 'psi', 'x_origo',\n",
       "       'y_origo', 'z_origo', 'roll', 'pitch', 'x0', 'y0', 'z0', 'time',\n",
       "       'distance', 'x0dot', 'y0dot', 'p', 'q', 'r', 'u', 'v', 'V', 'beta',\n",
       "       'surge', 'sway', 'yaw', 'heave'],\n",
       "      dtype='object')"
      ]
     },
     "execution_count": 12,
     "metadata": {},
     "output_type": "execute_result"
    }
   ],
   "source": [
    "run.df.columns"
   ]
  },
  {
   "cell_type": "code",
   "execution_count": 13,
   "metadata": {},
   "outputs": [],
   "source": []
  },
  {
   "cell_type": "code",
   "execution_count": 16,
   "metadata": {},
   "outputs": [
    {
     "data": {
      "text/plain": [
       "'c:\\\\dev\\\\manoeuvring\\\\data'"
      ]
     },
     "execution_count": 16,
     "metadata": {},
     "output_type": "execute_result"
    }
   ],
   "source": [
    "src.data.path"
   ]
  },
  {
   "cell_type": "code",
   "execution_count": null,
   "metadata": {},
   "outputs": [],
   "source": []
  }
 ],
 "metadata": {
  "kernelspec": {
   "display_name": "Python 3",
   "language": "python",
   "name": "python3"
  },
  "language_info": {
   "codemirror_mode": {
    "name": "ipython",
    "version": 3
   },
   "file_extension": ".py",
   "mimetype": "text/x-python",
   "name": "python",
   "nbconvert_exporter": "python",
   "pygments_lexer": "ipython3",
   "version": "3.6.8"
  }
 },
 "nbformat": 4,
 "nbformat_minor": 4
}
